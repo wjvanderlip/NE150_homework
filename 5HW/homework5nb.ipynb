{
 "cells": [
  {
   "cell_type": "markdown",
   "metadata": {
    "collapsed": true
   },
   "source": [
    "Calculates fuel to mod vol"
   ]
  },
  {
   "cell_type": "code",
   "execution_count": 23,
   "metadata": {
    "collapsed": true
   },
   "outputs": [],
   "source": [
    "import numpy as np\n",
    "import math\n",
    "import matplotlib.pyplot as plt\n",
    "import re\n",
    "import glob"
   ]
  },
  {
   "cell_type": "code",
   "execution_count": 3,
   "metadata": {
    "collapsed": true
   },
   "outputs": [],
   "source": [
    "D_fuel = .96\n",
    "t_gap = .01\n",
    "t_clad = .06\n",
    "Pi = math.pi\n",
    "l = 400\n",
    "\n",
    "A_fuel = ((D_fuel**2)*Pi)/4\n",
    "Vol_fuel = A_fuel*l\n",
    "\n",
    "A_core = ((D_fuel+(2*t_gap)+(2*t_clad))**2*Pi)/4"
   ]
  },
  {
   "cell_type": "code",
   "execution_count": 4,
   "metadata": {
    "collapsed": true
   },
   "outputs": [],
   "source": [
    "pitch = [1.10, 1.26, 1.40, 1.60, 1.80, 2.00]"
   ]
  },
  {
   "cell_type": "code",
   "execution_count": 5,
   "metadata": {},
   "outputs": [
    {
     "name": "stdout",
     "output_type": "stream",
     "text": [
      "0.0009865501140475846\n",
      "0.002773323099878325\n",
      "0.0048821867153680705\n",
      "0.008895369941501809\n",
      "0.014234844360068003\n",
      "0.021066396370120716\n"
     ]
    },
    {
     "data": {
      "text/plain": [
       "[0.0009865501140475846,\n",
       " 0.002773323099878325,\n",
       " 0.0048821867153680705,\n",
       " 0.008895369941501809,\n",
       " 0.014234844360068003,\n",
       " 0.021066396370120716]"
      ]
     },
     "execution_count": 5,
     "metadata": {},
     "output_type": "execute_result"
    }
   ],
   "source": [
    "ratio_list = []\n",
    "for l in pitch:\n",
    "    Vol_mod = (l**2 - A_core)*l\n",
    "    ratio = Vol_mod/Vol_fuel\n",
    "    print(ratio)\n",
    "    ratio_list.append(ratio)\n",
    "ratio_list"
   ]
  },
  {
   "cell_type": "code",
   "execution_count": 35,
   "metadata": {},
   "outputs": [
    {
     "data": {
      "text/plain": [
       "['1.08589']"
      ]
     },
     "execution_count": 35,
     "metadata": {},
     "output_type": "execute_result"
    }
   ],
   "source": [
    "k_list =[]\n",
    "\n",
    "path = 'outputs/*.txt'\n",
    "files = glob.glob(path)\n",
    "\n",
    "for name in files:\n",
    "    outputs = open(name, \"r\")\n",
    "    val = 0\n",
    "    #print(files)\n",
    "    \n",
    "    for line in outputs:\n",
    "        if re.match(\"(.*)final result(.*)\", line):\n",
    "            val = line\n",
    "            val_s = val.split()\n",
    "            #print(val_s)\n",
    "            #print(val_s[2])\n",
    "        if val != 0:\n",
    "            break\n",
    "    k_list.append(val_s[2])\n",
    "k_list    \n",
    "      \n",
    "        "
   ]
  },
  {
   "cell_type": "code",
   "execution_count": 28,
   "metadata": {},
   "outputs": [
    {
     "data": {
      "text/plain": [
       "'/outputs/*.txt'"
      ]
     },
     "execution_count": 28,
     "metadata": {},
     "output_type": "execute_result"
    }
   ],
   "source": [
    "plt.plot(k_list, ratio_list)"
   ]
  },
  {
   "cell_type": "code",
   "execution_count": 15,
   "metadata": {},
   "outputs": [
    {
     "data": {
      "text/plain": [
       "' mcnp     version 5     09282010                     04/02/18 20:30:13                     probid =  04/02/18 20:28:49 \\n'"
      ]
     },
     "execution_count": 15,
     "metadata": {},
     "output_type": "execute_result"
    }
   ],
   "source": []
  },
  {
   "cell_type": "code",
   "execution_count": null,
   "metadata": {
    "collapsed": true
   },
   "outputs": [],
   "source": []
  }
 ],
 "metadata": {
  "kernelspec": {
   "display_name": "Python 3",
   "language": "python",
   "name": "python3"
  },
  "language_info": {
   "codemirror_mode": {
    "name": "ipython",
    "version": 3
   },
   "file_extension": ".py",
   "mimetype": "text/x-python",
   "name": "python",
   "nbconvert_exporter": "python",
   "pygments_lexer": "ipython3",
   "version": "3.6.3"
  }
 },
 "nbformat": 4,
 "nbformat_minor": 2
}
