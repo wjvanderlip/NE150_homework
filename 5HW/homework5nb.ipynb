{
 "cells": [
  {
   "cell_type": "markdown",
   "metadata": {
    "collapsed": true
   },
   "source": [
    "Calculates fuel to mod vol"
   ]
  },
  {
   "cell_type": "code",
   "execution_count": 1,
   "metadata": {
    "collapsed": true
   },
   "outputs": [],
   "source": [
    "import numpy as np\n",
    "import math\n",
    "import matplotlib.pyplot as plt\n",
    "import re\n",
    "import glob\n",
    "import seaborn as sns"
   ]
  },
  {
   "cell_type": "code",
   "execution_count": 10,
   "metadata": {},
   "outputs": [],
   "source": [
    "D_fuel = .41*2 \n",
    "t_gap = .01\n",
    "t_clad = .06\n",
    "Pi = math.pi\n",
    "length = 400\n",
    "\n",
    "A_fuel = ((D_fuel**2)*Pi)/4\n",
    "Vol_fuel = A_fuel*length\n",
    "\n",
    "A_core = ((D_fuel+(2*t_gap)+(2*t_clad))**2*Pi)/4"
   ]
  },
  {
   "cell_type": "code",
   "execution_count": 11,
   "metadata": {
    "collapsed": true
   },
   "outputs": [],
   "source": [
    "pitch = [1.10, 1.26, 1.40, 1.60, 1.80, 2.00]"
   ]
  },
  {
   "cell_type": "code",
   "execution_count": 12,
   "metadata": {},
   "outputs": [
    {
     "name": "stdout",
     "output_type": "stream",
     "text": [
      "194.47082104516477\n",
      "345.51082104516473\n",
      "494.4708210451646\n",
      "734.4708210451648\n",
      "1006.4708210451648\n",
      "1310.4708210451647\n"
     ]
    },
    {
     "data": {
      "text/plain": [
       "[0.9206125061415041,\n",
       " 1.6356262659451886,\n",
       " 2.340793437954966,\n",
       " 3.4769381834057373,\n",
       " 4.76456889491661,\n",
       " 6.203685572487585]"
      ]
     },
     "execution_count": 12,
     "metadata": {},
     "output_type": "execute_result"
    }
   ],
   "source": [
    "ratio_list = []\n",
    "for l in pitch:\n",
    "    Vol_mod = (l**2 - A_core)*length\n",
    "    print(Vol_mod)\n",
    "    ratio = Vol_mod/Vol_fuel\n",
    "    #print(ratio)\n",
    "    ratio_list.append(ratio)\n",
    "ratio_list"
   ]
  },
  {
   "cell_type": "code",
   "execution_count": 16,
   "metadata": {},
   "outputs": [
    {
     "name": "stdout",
     "output_type": "stream",
     "text": [
      "outputs/110_output.txt\n",
      "outputs/126_output.txt\n",
      "outputs/140_output.txt\n",
      "outputs/160_output.txt\n",
      "outputs/180_output.txt\n",
      "outputs/200_output.txt\n"
     ]
    },
    {
     "data": {
      "text/plain": [
       "['1.29212', '1.43059', '1.48872', '1.52732', '1.53000', '1.51539']"
      ]
     },
     "execution_count": 16,
     "metadata": {},
     "output_type": "execute_result"
    }
   ],
   "source": [
    "k_list =[]\n",
    "\n",
    "path = 'outputs/*.txt'\n",
    "files = sorted(glob.glob(path))\n",
    "\n",
    "for name in files:\n",
    "    outputs = open(name, \"r\")\n",
    "    val = 0\n",
    "    print(name)\n",
    "    \n",
    "    for line in outputs:\n",
    "        if re.match(\"(.*)final result(.*)\", line):\n",
    "            val = line\n",
    "            val_s = val.split()\n",
    "            #print(val_s)\n",
    "            #print(val_s[2])\n",
    "        if val != 0:\n",
    "            break\n",
    "    k_list.append(val_s[2])\n",
    "k_list    \n",
    "      \n",
    "        "
   ]
  },
  {
   "cell_type": "code",
   "execution_count": 15,
   "metadata": {},
   "outputs": [
    {
     "data": {
      "image/png": "[encoded data removed]",
      "text/plain": [
       "<matplotlib.figure.Figure at 0x7f0f147e6c50>"
      ]
     },
     "metadata": {},
     "output_type": "display_data"
    }
   ],
   "source": [
    "blue = plt.plot(k_list, ratio_list)\n",
    "sns.set()\n",
    "plt.title('Fuel to Moderator Ratio vs. K_inf')\n",
    "plt.xlabel('K_inf')\n",
    "plt.ylabel('Fuel to Moderator Ratio')\n",
    "\n",
    "plt.savefig('FuelMod.jpg')\n",
    "plt.show()"
   ]
  },
  {
   "cell_type": "markdown",
   "metadata": {},
   "source": [
    "## Plotting for Problem 3"
   ]
  },
  {
   "cell_type": "code",
   "execution_count": null,
   "metadata": {},
   "outputs": [],
   "source": []
  },
  {
   "cell_type": "code",
   "execution_count": null,
   "metadata": {},
   "outputs": [],
   "source": [
    "# evenly sampled time at 200ms intervals\n",
    "t = np.arange(0., 110, 0.5)\n",
    "\n",
    "\n",
    "def power(t, Λ):\n",
    "    β = 2\n",
    "    ρ = 1\n",
    "    E = math.e\n",
    "    \n",
    "    y = E**(-((β-ρ)/Λ)*t)\n",
    "    return y\n",
    "\n",
    "\n",
    "# red dashes, blue squares and green triangles\n",
    "plt.plot(t, power(t, 1), 'b', label = 'Λ = 1')\n",
    "plt.plot(t, power(t, 5), 'orange', label = 'Λ = 5')\n",
    "plt.plot(t, power(t, 10), 'r--', label = 'Λ = 10')\n",
    "plt.plot(t, power(t, 20), 'purple', label = 'Λ = 20')\n",
    "plt.xlabel('Time [s]')\n",
    "plt.ylabel('Second Term Value')\n",
    "plt.title('Λ Independence from Power Calculation')\n",
    "plt.legend(loc='upper right')\n",
    "plt.show()"
   ]
  },
  {
   "cell_type": "code",
   "execution_count": null,
   "metadata": {
    "collapsed": true
   },
   "outputs": [],
   "source": [
    "plt.plot?"
   ]
  },
  {
   "cell_type": "code",
   "execution_count": null,
   "metadata": {
    "collapsed": true
   },
   "outputs": [],
   "source": []
  }
 ],
 "metadata": {
  "kernelspec": {
   "display_name": "Python 3",
   "language": "python",
   "name": "python3"
  },
  "language_info": {
   "codemirror_mode": {
    "name": "ipython",
    "version": 3
   },
   "file_extension": ".py",
   "mimetype": "text/x-python",
   "name": "python",
   "nbconvert_exporter": "python",
   "pygments_lexer": "ipython3",
   "version": "3.6.3"
  }
 },
 "nbformat": 4,
 "nbformat_minor": 2
}
