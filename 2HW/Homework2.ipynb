{
 "cells": [
  {
   "cell_type": "code",
   "execution_count": 3,
   "metadata": {
    "collapsed": true
   },
   "outputs": [],
   "source": [
    "import matplotlib.pyplot as plt\n",
    "import numpy as np\n",
    "import scipy as sci\n",
    "from scipy.constants import physical_constants as c\n",
    "import math\n",
    "from mendeleev import element"
   ]
  },
  {
   "cell_type": "markdown",
   "metadata": {},
   "source": [
    "![Binding Energy Curve](binding_energy_plot_Krane.png)\n",
    "\n",
    "Figure from: Modern Physics 3rd edition, KS Krane\n",
    "\n",
    "This figure shows how binding energy per nucleon changes as Z increases accross all the elements. For low  Z nuclei such as H, D, and T, bidning energy is low and will facilitate fustion of these nuclei with a Q value of around 18 MeV. There is a significant jump in BE with He-4 (alpha particle) and explains why high Z elements will eject this stable nucleus.  There are noticable jumps in BE when you complete an alpha particle set (Be-8, C-12, ect). As Z increases, binding energy will increae until Fe-56, an area known as the Iron Grop who reside in the valley of stability. Meaning, the elements around Fe-56 are the most tightly bound of the elements. Once you pass Fe-56, BE begins to decrease. This decrease in BE past Fe-56 allows fission to occur for high Z elements with a Q value of around 200 MeV. "
   ]
  },
  {
   "cell_type": "code",
   "execution_count": 30,
   "metadata": {
    "collapsed": true
   },
   "outputs": [],
   "source": [
    "mass_n = 1.008664\n",
    "mass_p = 1.007825\n",
    "conv = 931.502 #MeV/c^2\n",
    "mass_H2 = 2.01410177812 \n",
    "mass_H3 = 3.01604927791\n"
   ]
  },
  {
   "cell_type": "code",
   "execution_count": 33,
   "metadata": {
    "collapsed": true
   },
   "outputs": [],
   "source": [
    "def BE(proton, neutron, isotope, name):\n",
    "    B_E = ((neutron*mass_n + proton*mass_p) - isotope)* conv\n",
    "    B_E_pn = B_E/(proton+neutron)\n",
    "    print(\"Binding energy per nucleon for \"+str(name)+ ' is ' +str(B_E_pn)+ \" MeV\")\n",
    "    \n",
    "def q_val(A, B, C, D, E, F):\n",
    "    Q = ((A+B+C)-(D+E+F))*conv\n",
    "    \n",
    "    print('The Q value is ' +str(Q)+ ' MeV')\n",
    "    return Q\n",
    "    \n",
    "def KE(Q, mass_heavy, mass_light, weight):\n",
    "    if weight == 'heavy':\n",
    "        KE = abs(Q)/((mass_heavy/mass_light)+1)\n",
    "    if weight == 'light':\n",
    "        KE = abs(Q)/((mass_light/mass_heavy)+1)\n",
    "    print('The kinetic energy of the '+str(weight)+' particle is '+ str(KE)+' MeV')"
   ]
  },
  {
   "cell_type": "code",
   "execution_count": 35,
   "metadata": {},
   "outputs": [
    {
     "name": "stdout",
     "output_type": "stream",
     "text": [
      "Binding energy per nucleon for H2 is 1.111850977831808 MeV\n",
      "Binding energy per nucleon for H3 is 2.826711778093022 MeV\n",
      "The Q value is 3.251201244951801 MeV\n",
      "The kinetic energy of the heavy particle is 0.8148082673459444 MeV\n",
      "The kinetic energy of the light particle is 2.436392977605857 MeV\n"
     ]
    }
   ],
   "source": [
    "BE(1, 1, mass_H2, \"H2\")\n",
    "BE(1, 2, mass_H3, \"H3\")\n",
    "Q1 = q_val(mass_H2, mass_H2, 0, mass_H3, mass_n, 0)\n",
    "#print(Q1)\n",
    "KE(Q1, mass_H3, mass_n, 'heavy')\n",
    "KE(Q1, mass_H3, mass_n, 'light')\n"
   ]
  },
  {
   "cell_type": "markdown",
   "metadata": {},
   "source": [
    "I assumed the following\n",
    "  1) This occured in a laboratory setting, and all particles were at rest (no effect of KE from D or T)\n",
    "  2) All energy was imparted to the daughter particles"
   ]
  },
  {
   "cell_type": "markdown",
   "metadata": {},
   "source": [
    "### Question 2"
   ]
  },
  {
   "cell_type": "code",
   "execution_count": 36,
   "metadata": {},
   "outputs": [
    {
     "name": "stdout",
     "output_type": "stream",
     "text": [
      "The Q value is 191.12347516548982 MeV\n",
      "Binding energy per nucleon for 235-U is 7.590440641775524 MeV\n",
      "Binding energy per nucleon for 136-I is 8.350864663141078 MeV\n",
      "Binding energy per nucleon for 99-Y is 8.476357896924766 MeV\n"
     ]
    }
   ],
   "source": [
    "mass_235 = 235.043930131\n",
    "mass_136 = 135.914604412\n",
    "mass_99 = 98.924147979 \n",
    "\n",
    "Q2 = q_val(mass_n, mass_235, 0, mass_136, mass_99, mass_n)\n",
    "BE(92, 235-92, mass_235, \"235-U\")\n",
    "BE(53, 136-53, mass_136, '136-I')\n",
    "BE(39, 99-39, mass_99, '99-Y')"
   ]
  },
  {
   "cell_type": "markdown",
   "metadata": {},
   "source": [
    "Energy distrobution:  The energy from this is distrubted in several ways, the first is the enrgy imparted to the daughter elments (KE), the neutron from fission will also have around a 2.5 MeV energy associated with it, and lastly there is a release of thermal energy (what heats the coolant in a reactor!) \n",
    "\n",
    "Mass defect is the difference between the mass of a nuclide and its constituent nucleons (in amu). Mass excess is defined as the difference between the atomic mass (in amu) and the atomic mass number."
   ]
  },
  {
   "cell_type": "markdown",
   "metadata": {},
   "source": [
    "### Question 3"
   ]
  },
  {
   "cell_type": "code",
   "execution_count": 43,
   "metadata": {},
   "outputs": [
    {
     "name": "stdout",
     "output_type": "stream",
     "text": [
      "Macroscopic cross section is: 1.2999999999999998 1/cm\n",
      "Mean Free Path is: 0.7692 cm\n",
      "Fraction that will make it through the slab 7.42735782143339\n",
      "363999999.99999994 collisions per second\n"
     ]
    }
   ],
   "source": [
    "σ3 = 2.50*10**(-24)  #cm^2/nuclei\n",
    "N3 = 5.20*10**23  ##nuclei/cm^3\n",
    "\n",
    "###  Macroscopic Cross Section\n",
    "Σ = (σ3*N3)\n",
    "print(\"Macroscopic cross section is: \"+str(Σ)+ ' 1/cm')\n",
    "\n",
    "###  Mean Free Path\n",
    "\n",
    "λ = round(1/Σ, 4)\n",
    "print('Mean Free Path is: '+str(λ)+' cm')\n",
    "\n",
    "### Fraction that will penetrate slab with NO collision\n",
    "t = 2 #cm\n",
    "Prob = math.exp(-t*Σ)\n",
    "\n",
    "print('Fraction that will make it through the slab ' + str(Prob*100))\n",
    "I = 7*10**7 #n/(cm^2s)\n",
    "A = 2 #cm^2\n",
    "#  R_vol = σ x I x N x Vol\n",
    "\n",
    "R = σ3*N3*I*(A*t)\n",
    "print(str(R)+' collisions per second')\n"
   ]
  },
  {
   "cell_type": "markdown",
   "metadata": {},
   "source": [
    "### Question 4\n",
    "Overall cross section plot\n",
    "![Cross Section Full](cross_section full.png)\n",
    "Zoom of 235-U and 239-Pu in low laying energy resonance\n",
    "![Cross Section Zoom](cross_section_zoom.png)\n"
   ]
  },
  {
   "cell_type": "markdown",
   "metadata": {},
   "source": [
    "a) Resonance energy:\n",
    "235U(n,tot) – 0.282 eV\t\t235U(n,γ) – 0.282 eV\n",
    "239Pu(n,tot) – 0.29 eV\t\t239Pu(n,γ) – 0.29 eV\n",
    "\n",
    "b) resonance cross-section;\n",
    "235U(n,tot) – 201 b\t\t235U(n,γ) – 48.3 b\n",
    "239Pu(n,tot) – 3420 b\t\t239Pu(n,γ) – 2290 b\n",
    "\n",
    "c) The capture-to-fission ratio at the resonance peak;\n",
    "235U – 0.2403\t\t239Pu – 0.6696\n",
    "\n",
    "d) The capture-to-fission ratio at 0.0253 eV.\n",
    "235U – 0.3825\t\t239Pu – 0.7765"
   ]
  },
  {
   "cell_type": "markdown",
   "metadata": {},
   "source": [
    "### Question 5\n",
    "![Li and Na](Li_Na_crosssection.png)\n",
    "\n",
    "    1) For Na:  cross section = .349 b   E = 2.4 MeV\n",
    "    2) For Li: cross section =  3.23 b  E = .260 MeV\n",
    "\n",
    "There is a 1/v dependence "
   ]
  },
  {
   "cell_type": "markdown",
   "metadata": {},
   "source": [
    "### Question 6\n",
    "\n",
    "    1) Boron absorbes neutrons through the (n, alpha) reaction\n",
    "    2) Gadolinium absorbes neutrons through the (n, gamma) reaction\n",
    "    \n",
    "    3) Gd-157 is the most absorbing at .0253 eV  (I plotted all the Gd and B isotobes at this enetry, Gd-157 won by a significant ammount. \n",
    "    \n",
    "-  I only plotted the largest cross section reactions\n",
    "\n",
    "![B and Gd](B_Gd_crosssection.png)"
   ]
  },
  {
   "cell_type": "markdown",
   "metadata": {},
   "source": [
    "### Question 7\n",
    "\n",
    "-  Lead is used to slow fast neutrons because it has a high elastic scattering cross section at high energies and low absorption cross section. \n",
    "\n",
    "-  Elastic scattering is used to slow down the neutrons; the effects from inelastic scattering are small in cotrast. With elastic scattering the total kinetic energy before the collision is equal to the total kinetic energy after the collision.\n",
    "\n",
    "-  Elastic scattering is the most likely interaction for all elements, therefore, will work at any energy. \n",
    "\n",
    "Looking at the cross section plots, Hydrogen is generally higher, but lead has a significant resonance component.\n",
    "\n",
    "![Lead and Hydrogen Scattering](lead_H_cs1.png)"
   ]
  },
  {
   "cell_type": "markdown",
   "metadata": {},
   "source": [
    "### Question 8\n",
    "\n",
    "    The best neutron energy range is 20.5 - 23.7 eV.  In this range you find the max resonances for both isotopes and they are also overlapping.  Below is the overall plot of cross sections, and a second zoomed into this region. \n",
    "    \n",
    "![U and Th](fertile1.png)\n",
    "![zoom with marking](fertile_zoom1.png)"
   ]
  },
  {
   "cell_type": "markdown",
   "metadata": {},
   "source": [
    "### Question 9\n",
    "\n",
    "-  Mean Free Path: The average distance a particle will travel before having a collision or interaction with another particle\n",
    "-  Mean Time to Collision: The average length of time it takes for a particle to have a collision or interaction\n",
    "-  Mean Collision Frequency: The average rate of collisions\n",
    "\n",
    "\n",
    "The above mentioned definitions are all functions of energy, particle type and cross section. \n",
    "\n"
   ]
  },
  {
   "cell_type": "code",
   "execution_count": 13,
   "metadata": {},
   "outputs": [
    {
     "name": "stdout",
     "output_type": "stream",
     "text": [
      "   92   233  233.03964\n",
      "   92   234  234.04095\n",
      "   92   235  235.04393\n",
      "   92   238  238.05079\n",
      "   92   236  236.04557\n"
     ]
    }
   ],
   "source": [
    "C = element('C')\n",
    "B = element('B')\n",
    "Fe = element('Fe')\n",
    "Xe = element('Xe')\n",
    "Pb = element('Pb')\n",
    "U = element('U')\n",
    "\n",
    "\n",
    "for iso in U.isotopes:\n",
    "    print(iso)"
   ]
  },
  {
   "cell_type": "code",
   "execution_count": 53,
   "metadata": {},
   "outputs": [
    {
     "name": "stdout",
     "output_type": "stream",
     "text": [
      "******For cs_C12_1 at 1000000.0 eV *******\n",
      "Σ= 0.28826384303566666 cm^-1\n",
      "λ= 3.469044155760703 cm\n",
      "ν= 7.229661179530143e-10 cm/s\n",
      "τ= 4798349562.470307 s\n",
      "Mean Coll Freq= 2.08404991545713e-10 s^-1\n",
      "\n",
      "******For cs_C12_th at 0.0253 eV *******\n",
      "Σ= 0.5466444404666667 cm^-1\n",
      "λ= 1.8293426695171484 cm\n",
      "ν= 4.545249040725435e-06 cm/s\n",
      "τ= 402473.5835432199 s\n",
      "Mean Coll Freq= 2.484635118649009e-06 s^-1\n",
      "\n",
      "******For cs_B10_1 at 1000000.0 eV *******\n",
      "Σ= 0.35725134570665557 cm^-1\n",
      "λ= 2.7991497079513175 cm\n",
      "ν= 7.229661179530143e-10 cm/s\n",
      "τ= 3871757802.256004 s\n",
      "Mean Coll Freq= 2.5828061853903105e-10 s^-1\n",
      "\n",
      "******For cs_B10_th at 0.0253 eV *******\n",
      "Σ= 541.3648898804946 cm^-1\n",
      "λ= 0.001847182960499615 cm\n",
      "ν= 4.545249040725435e-06 cm/s\n",
      "τ= 406.3986250145711 s\n",
      "Mean Coll Freq= 0.002460638246411749 s^-1\n",
      "\n",
      "******For cs_Fe56_1 at 1000000.0 eV *******\n",
      "Σ= 0.19459020552082476 cm^-1\n",
      "λ= 5.139004798949048 cm\n",
      "ν= 7.229661179530143e-10 cm/s\n",
      "τ= 7108223568.622386 s\n",
      "Mean Coll Freq= 1.4068212547706988e-10 s^-1\n",
      "\n",
      "******For cs_Fe56_th at 0.0253 eV *******\n",
      "Σ= 1.253557735086513 cm^-1\n",
      "λ= 0.7977295117811115 cm\n",
      "ν= 4.545249040725435e-06 cm/s\n",
      "τ= 175508.42751045202 s\n",
      "Mean Coll Freq= 5.697732092895922e-06 s^-1\n",
      "\n",
      "******For cs_Xe135_1 at 1000000.0 eV *******\n",
      "Σ= 0.00015810234195248857 cm^-1\n",
      "λ= 6325.016996272646 cm\n",
      "ν= 7.229661179530143e-10 cm/s\n",
      "τ= 8748704592382.724 s\n",
      "Mean Coll Freq= 1.1430263640067064e-13 s^-1\n",
      "\n",
      "******For cs_Xe135_th at 0.0253 eV *******\n",
      "Σ= 70.99488778714576 cm^-1\n",
      "λ= 0.014085521242010594 cm\n",
      "ν= 4.545249040725435e-06 cm/s\n",
      "τ= 3098.95478021211 s\n",
      "Mean Coll Freq= 0.00032268944561093414 s^-1\n",
      "\n",
      "******For cs_Pb207_1 at 1000000.0 eV *******\n",
      "Σ= 0.17836628480030767 cm^-1\n",
      "λ= 5.606440707780415 cm\n",
      "ν= 7.229661179530143e-10 cm/s\n",
      "τ= 7754776563.602083 s\n",
      "Mean Coll Freq= 1.2895278049578017e-10 s^-1\n",
      "\n",
      "******For cs_Pb207_th at 0.0253 eV *******\n",
      "Σ= 0.3776216482305428 cm^-1\n",
      "λ= 2.6481532631558435 cm\n",
      "ν= 4.545249040725435e-06 cm/s\n",
      "τ= 582620.0587533023 s\n",
      "Mean Coll Freq= 1.7163844343770322e-06 s^-1\n",
      "\n",
      "******For cs_U235_1 at 1000000.0 eV *******\n",
      "Σ= 0.33782703969423933 cm^-1\n",
      "λ= 2.9600946120389904 cm\n",
      "ν= 7.229661179530143e-10 cm/s\n",
      "τ= 4094375294.4053836 s\n",
      "Mean Coll Freq= 2.442375034273031e-10 s^-1\n",
      "\n",
      "******For cs_U235_th at 0.0253 eV *******\n",
      "Σ= 34.19601420006891 cm^-1\n",
      "λ= 0.02924317419420141 cm\n",
      "ν= 4.545249040725435e-06 cm/s\n",
      "τ= 6433.789201027831 s\n",
      "Mean Coll Freq= 0.00015542940073949655 s^-1\n",
      "\n"
     ]
    }
   ],
   "source": [
    "cs_C12_1= 2.6110067\n",
    "cs_B10_1= 2.53851\n",
    "cs_Fe56_1= 2.2966175\n",
    "cs_Xe135_1= 6.60058\n",
    "cs_Pb207_1=  5.42517 \n",
    "cs_U235_1= 6.9035\n",
    "\n",
    "cs_C12_th= 4.95134\n",
    "cs_B10_th= 3846.76\n",
    "cs_Fe56_th= 14.7949\n",
    "cs_Xe135_th=  2963950.0\n",
    "cs_Pb207_th= 11.4857\n",
    "cs_U235_th= 5.14331E-4\n",
    "\n",
    "\n",
    "\n",
    "barn = 10**(-24) #cm^2\n",
    "#(name, cross section, energy, mass, density)\n",
    "cs_data = [('cs_C12_1', 2.6110067, 1e6, 12.00000, 2.2), ('cs_C12_th', 4.95134, .0253, 12.0000, 2.2), ('cs_B10_1', 2.53851, 1e6, 10.01294, 2.34), \n",
    "           ('cs_B10_th', 3846.76, .0253, 10.01294, 2.34),('cs_Fe56_1', 2.2966175, 1e6, 55.93494, 7.87), ('cs_Fe56_th', 14.7949, .0253, 55.93494, 7.87), ('cs_Xe135_1', 6.60058, 1e6, 134.907227, 0.005366), \n",
    "           ('cs_Xe135_th', 2963950.0, .0253, 134.907227, 0.005366), ('cs_Pb207_1', 5.42517, 1e6, 206.97590, 11.3), ('cs_Pb207_th', 11.4857, .0253, 206.97590, 11.3), ('cs_U235_1', 6.9035, 1e6, 235.04393, 19.1), \n",
    "           ('cs_U235_th', 698.796, .0253, 235.04393, 19.1)] \n",
    "\n",
    "\n",
    "mass_n_nrg = 939.57e6\n",
    "for values in cs_data:\n",
    "    print('******For '+ values[0]+' at '+ str(values[2])+' eV *******')\n",
    "    N = values[4]*6.022e+23/values[3]\n",
    "    Σ = values[1]*barn*N\n",
    "    λ = 1/Σ\n",
    "    ν = (2*(values[2]*(2.998e10)**2)/mass_n_nrg)**(-1/2)\n",
    "    τ = λ/ν\n",
    "    freq = ν*Σ\n",
    "    print('Σ= '+str(Σ) + ' cm^-1')\n",
    "    print('λ= '+str(λ)+ ' cm')\n",
    "    print('ν= '+str(ν)+ ' cm/s')\n",
    "    print('τ= '+str(τ)+ ' s')\n",
    "    print('Mean Coll Freq= '+str(freq)+ ' s^-1')\n",
    "    print()\n"
   ]
  },
  {
   "cell_type": "markdown",
   "metadata": {},
   "source": [
    "### Question 10 "
   ]
  },
  {
   "cell_type": "code",
   "execution_count": 54,
   "metadata": {
    "collapsed": true
   },
   "outputs": [],
   "source": [
    "pu239wt = .705\n",
    "pu240wt = .213\n",
    "pu241wt = .055\n",
    "pu242wt = .027\n",
    "\n",
    "Pox = .30\n",
    "Uox = .70\n",
    "\n",
    "ρ = 10.6 #g/cm^3\n",
    "ρ_2\n",
    "barn = 10**(-24) #cm^2\n",
    "\n",
    "σ_239 = 747.393\n",
    "σ_240 = 0.0563172\n",
    "σ_241 = 1012.3\n",
    "σ_242 = 0.013822\n",
    "σ_238 = 1.67997E-5\n",
    "\n",
    "O = element('O')\n",
    "O.atomic_weight\n",
    "Pu = element('Pu')\n",
    "\n",
    "#for iso in Pu.isotopes:\n",
    "    #print(iso)\n",
    "\n",
    "mass_239 = 239.05216\n",
    "mass_240 = 240.05381\n",
    "mass_241 = 241.05685\n",
    "mass_242 = 242.05874\n",
    "\n",
    "N_UO2 = Uox * ρ * 6.022e+23/(238+2*16)"
   ]
  },
  {
   "cell_type": "code",
   "execution_count": 57,
   "metadata": {},
   "outputs": [
    {
     "name": "stdout",
     "output_type": "stream",
     "text": [
      "1.6549348148148145e+22\n",
      "2.7802408408444436e-07\n"
     ]
    }
   ],
   "source": [
    "N_UO2 = Uox * ρ * 6.022e+23/(238+2*16)\n",
    "print(N_UO2)\n",
    "#assume Oyxgen has σfission = 0 \n",
    "Σ_UO2 = σ_238*barn * N_UO2\n",
    "print(Σ_UO2)\n"
   ]
  },
  {
   "cell_type": "markdown",
   "metadata": {
    "collapsed": true
   },
   "source": [
    "Wife went into labor yesterday so I tried to finish this from the hospital.  Got almost through #10 "
   ]
  },
  {
   "cell_type": "code",
   "execution_count": null,
   "metadata": {
    "collapsed": true
   },
   "outputs": [],
   "source": []
  }
 ],
 "metadata": {
  "kernelspec": {
   "display_name": "Python 3",
   "language": "python",
   "name": "python3"
  },
  "language_info": {
   "codemirror_mode": {
    "name": "ipython",
    "version": 3
   },
   "file_extension": ".py",
   "mimetype": "text/x-python",
   "name": "python",
   "nbconvert_exporter": "python",
   "pygments_lexer": "ipython3",
   "version": "3.6.3"
  }
 },
 "nbformat": 4,
 "nbformat_minor": 2
}
