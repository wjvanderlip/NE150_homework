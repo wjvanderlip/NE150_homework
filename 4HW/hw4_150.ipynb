{
 "cells": [
  {
   "cell_type": "markdown",
   "metadata": {},
   "source": [
    "## Question 2"
   ]
  },
  {
   "cell_type": "code",
   "execution_count": 45,
   "metadata": {},
   "outputs": [
    {
     "name": "stdout",
     "output_type": "stream",
     "text": [
      "2.1893273821294384e-06\n",
      "0.00041639594338823126\n",
      "9.18105031215571e-07\n"
     ]
    }
   ],
   "source": [
    "σcarbon = .0031e-24\n",
    "σwater = .5896e-24\n",
    "σheavy = .0013e-24\n",
    "\n",
    "σ_f = 582.6e-24\n",
    "σ_cap_235 = 98.8e-24\n",
    "\n",
    "ρcarbon = 1\n",
    "ρwater =1\n",
    "ρheavy =1 \n",
    "\n",
    "\n",
    "mods = [[σcarbon],[σwater], [σheavy]]\n",
    "\n",
    "mods[0][0]\n",
    "\n",
    "k =1 \n",
    "v = 2.6\n",
    "for cross in mods:\n",
    "    #print(cross[0])\n",
    "    R = v*(σ_f/cross[0])-σ_cap_235/cross[0]\n",
    "    print(1/R)\n",
    "    "
   ]
  },
  {
   "cell_type": "markdown",
   "metadata": {
    "collapsed": true
   },
   "source": [
    "## Plotting for Question 5"
   ]
  },
  {
   "cell_type": "code",
   "execution_count": 1,
   "metadata": {
    "collapsed": true
   },
   "outputs": [],
   "source": [
    "import matplotlib.pyplot as plt\n",
    "import numpy as np"
   ]
  },
  {
   "cell_type": "code",
   "execution_count": 36,
   "metadata": {},
   "outputs": [
    {
     "data": {
      "image/png": "[encoded data removed]",
      "text/plain": [
       "<matplotlib.figure.Figure at 0x7f4ea9b45cc0>"
      ]
     },
     "metadata": {},
     "output_type": "display_data"
    }
   ],
   "source": [
    "total =  (1.51250e-01, 1.51591E-01, 1.51588E-01)\n",
    "thermal = (2.46509E-03, 2.97126E-03, 3.36391E-03)\n",
    "fast = (1.48731E-01, 1.48567E-01, 1.48172E-01)\n",
    "\n",
    "ind = np.arange(len(total))  # the x locations for the groups\n",
    "width = 0.15  # the width of the bars\n",
    "\n",
    "fig, ax = plt.subplots()\n",
    "rects1 = ax.bar(ind - width, total, width, color='SkyBlue', label='Total Average Flux')\n",
    "rects2 = ax.bar(ind, thermal, width, color='IndianRed', label='Thermal Flux')\n",
    "rects3 = ax.bar(ind + width, fast, width, color='Green', label='Fast Flux')\n",
    "\n",
    "# Add some text for labels, title and custom x-axis tick labels, etc.\n",
    "ax.set_ylabel('Flux [10000*neutron/(cm2*s)]')\n",
    "ax.set_title('Flux by Region')\n",
    "ax.set_xticks(ind)\n",
    "ax.set_xticklabels(('Fuel', 'Cladding', 'Moderator'))\n",
    "ax.legend()\n",
    "plt.savefig('q5_flux.jpg')\n",
    "\n"
   ]
  },
  {
   "cell_type": "code",
   "execution_count": 37,
   "metadata": {},
   "outputs": [
    {
     "data": {
      "image/png": "[encoded data removed]",
      "text/plain": [
       "<matplotlib.figure.Figure at 0x7f4ea9ba9710>"
      ]
     },
     "metadata": {},
     "output_type": "display_data"
    }
   ],
   "source": [
    "total6 =  (1.61809e-02, 1.61690e-02, 1.61309e-02, 1.60925e-02, 1.60389e-02)\n",
    "thermal6 = (2.66372e-03, 2.76299e-03, 2.86679e-03, 2.99604e-03, 3.16416e-03)\n",
    "fast6 = (1.35076e-02, 1.33967e-02, 1.32550e-02, 1.30875e-02, 1.28662e-02)\n",
    "\n",
    "ind2 = np.arange(len(total6))  # the x locations for the groups\n",
    "width = 0.15  # the width of the bars\n",
    "\n",
    "fig2, ax2 = plt.subplots()\n",
    "rects11 = ax2.bar(ind2 - width, total6, width, color='SkyBlue', label='Total Average Flux')\n",
    "rects12 = ax2.bar(ind2, thermal6, width, color='IndianRed', label='Thermal Flux')\n",
    "rects13 = ax2.bar(ind2 + width, fast6, width, color='Green', label='Fast Flux')\n",
    "\n",
    "# Add some text for labels, title and custom x-axis tick labels, etc.\n",
    "ax2.set_ylabel('Flux [10000*neutron/(cm2*s)]')\n",
    "ax2.set_title('Flux by Fuel Region')\n",
    "ax2.set_xticks(ind2)\n",
    "ax2.set_xticklabels(('Core', 'Region_2', 'Region_3', 'Region_4', 'Region_5'))\n",
    "ax2.legend()\n",
    "plt.savefig('q6_flux.jpg')"
   ]
  },
  {
   "cell_type": "code",
   "execution_count": 28,
   "metadata": {
    "collapsed": true
   },
   "outputs": [],
   "source": [
    "with open('outputs/single_pin_6/outp') as f:\n",
    "    text_block = f.readlines()[3200:3219]"
   ]
  },
  {
   "cell_type": "code",
   "execution_count": 31,
   "metadata": {},
   "outputs": [
    {
     "data": {
      "text/plain": [
       "['    1.0000E-08   9.08496E-05 0.0035\\n',\n",
       " '    2.0000E-08   2.79037E-04 0.0022\\n',\n",
       " '    3.0000E-08   3.87141E-04 0.0020\\n',\n",
       " '    4.0000E-08   4.18932E-04 0.0019\\n',\n",
       " '    5.0000E-08   4.04589E-04 0.0020\\n',\n",
       " '    6.0000E-08   3.61085E-04 0.0021\\n',\n",
       " '    7.0000E-08   3.08924E-04 0.0023\\n',\n",
       " '    8.0000E-08   2.56324E-04 0.0026\\n',\n",
       " '    9.0000E-08   2.10936E-04 0.0028\\n',\n",
       " '    1.0000E-07   1.72924E-04 0.0032\\n',\n",
       " '    7.7426E-07   1.20315E-03 0.0014\\n',\n",
       " '    5.9948E-06   7.40602E-04 0.0019\\n',\n",
       " '    4.6416E-05   6.54919E-04 0.0020\\n',\n",
       " '    3.5938E-04   7.34428E-04 0.0019\\n',\n",
       " '    2.7826E-03   7.80710E-04 0.0019\\n',\n",
       " '    2.1544E-02   8.40578E-04 0.0019\\n',\n",
       " '    1.6681E-01   1.21036E-03 0.0016\\n',\n",
       " '    1.2915E+00   3.45875E-03 0.0010\\n',\n",
       " '    1.0000E+01   3.59909E-03 0.0012\\n']"
      ]
     },
     "execution_count": 31,
     "metadata": {},
     "output_type": "execute_result"
    }
   ],
   "source": [
    "(text_block)\n",
    "        "
   ]
  },
  {
   "cell_type": "code",
   "execution_count": 32,
   "metadata": {
    "collapsed": true
   },
   "outputs": [],
   "source": [
    "import itertools\n",
    "\n",
    "def clean_up(text):\n",
    "    '''\n",
    "    The text returned from BeatifulSoup had extra markups that we remove with the replace list. The data also has\n",
    "    trace ('T') values for precip, so I assume that amount is 0.0 and replace all trace values.\n",
    "    '''\n",
    "    \n",
    "    replace_list = ['  ', '\\n', '   ']\n",
    "    for r in replace_list:\n",
    "        text = text.replace(r, '')\n",
    "        text_final = text.replace('E', \"e\")\n",
    "    return text_final"
   ]
  },
  {
   "cell_type": "code",
   "execution_count": 33,
   "metadata": {},
   "outputs": [
    {
     "data": {
      "text/plain": [
       "[[1e-08, 9.08496e-05, 0.0035],\n",
       " [2e-08, 0.000279037, 0.0022],\n",
       " [3e-08, 0.000387141, 0.002],\n",
       " [4e-08, 0.000418932, 0.0019],\n",
       " [5e-08, 0.000404589, 0.002],\n",
       " [6e-08, 0.000361085, 0.0021],\n",
       " [7e-08, 0.000308924, 0.0023],\n",
       " [8e-08, 0.000256324, 0.0026],\n",
       " [9e-08, 0.000210936, 0.0028],\n",
       " [1e-07, 0.000172924, 0.0032],\n",
       " [7.7426e-07, 0.00120315, 0.0014],\n",
       " [5.9948e-06, 0.000740602, 0.0019],\n",
       " [4.6416e-05, 0.000654919, 0.002],\n",
       " [0.00035938, 0.000734428, 0.0019],\n",
       " [0.0027826, 0.00078071, 0.0019],\n",
       " [0.021544, 0.000840578, 0.0019],\n",
       " [0.16681, 0.00121036, 0.0016],\n",
       " [1.2915, 0.00345875, 0.001],\n",
       " [10.0, 0.00359909, 0.0012]]"
      ]
     },
     "execution_count": 33,
     "metadata": {},
     "output_type": "execute_result"
    }
   ],
   "source": [
    "cleaned = []\n",
    "for l in range(len(text_block)):\n",
    "    c_line = text_block[l]\n",
    "    clean_line = clean_up(c_line)\n",
    "    cleaned.append(clean_line)\n",
    "plot_data = []\n",
    "for line in cleaned:\n",
    "    numbers_str = line.split()\n",
    "    num_float = [float(x) for x in numbers_str]\n",
    "    plot_data.append(num_float)\n",
    "plot_data"
   ]
  },
  {
   "cell_type": "code",
   "execution_count": 42,
   "metadata": {},
   "outputs": [
    {
     "data": {
      "image/png": "[encoded data removed]",
      "text/plain": [
       "<matplotlib.figure.Figure at 0x7f4ea971b9b0>"
      ]
     },
     "metadata": {},
     "output_type": "display_data"
    },
    {
     "data": {
      "text/plain": [
       "<matplotlib.figure.Figure at 0x7f4ea971ba20>"
      ]
     },
     "metadata": {},
     "output_type": "display_data"
    }
   ],
   "source": [
    "energy_x = []\n",
    "for nrg in range(len(plot_data)):\n",
    "    EE = plot_data[nrg][0]\n",
    "    energy_x.append(EE)\n",
    "flux_y =[]\n",
    "for f in range(len(plot_data)):\n",
    "    flux = plot_data[f][1]\n",
    "    flux_y.append(flux)\n",
    "\n",
    "width = 0.15  # the width of the bars\n",
    "x_pos = np.linspace(0, 19, 19)\n",
    "fig3, ax3 = plt.subplots()\n",
    "ax3.bar(x_pos, flux_y, width, color='SkyBlue', label='Total Average Flux')\n",
    "\n",
    "ax3.set_xticks(x_pos)\n",
    "plt.xticks(rotation='vertical')\n",
    "ax3.set_xticklabels(('.01', '.02', '.03', '.04', '.05', '.06', '.07', '.08', '.09', '.1',\n",
    "                     '.774263', '5.99484', '46.6415', '359.38136', '2.7820e+03', '2.15449e+04', '1.6684e+05',\n",
    "                       '1.291e+06', '10.00e+06'))\n",
    "plt.figure(figsize=(4, 6))\n",
    "ax3.set_ylabel('Flux [10000*neutron/(cm2*s)]')\n",
    "ax3.set_xlabel('Neutron Energy [eV]')\n",
    "ax3.set_title('Flux by Fuel Region')\n",
    "#ax3.set_ylim(0, .1)\n",
    "\n",
    "ax3.legend()\n",
    "plt.savefig('q6_nrg_distro.jpg')"
   ]
  },
  {
   "cell_type": "code",
   "execution_count": null,
   "metadata": {},
   "outputs": [],
   "source": [
    "geo = np.geomspace(.1, 10e6, 10)\n",
    "geo/1e6"
   ]
  },
  {
   "cell_type": "code",
   "execution_count": null,
   "metadata": {},
   "outputs": [],
   "source": [
    "geo"
   ]
  },
  {
   "cell_type": "code",
   "execution_count": null,
   "metadata": {},
   "outputs": [],
   "source": [
    "n_neutron = 10000\n",
    "\n",
    "th_fuel = 2.46509e-3\n",
    "fast_fuel = 1.48731e-1\n",
    "total_fuel = 1.51250e-1\n",
    "\n",
    "th_clad = 2.97126e-3\n",
    "fast_clad = 1.48567e-1\n",
    "total_clad = 1.51591e-1\n",
    "\n",
    "th_mod= 3.36391e-3\n",
    "fast_mod = 1.48172e-1\n",
    "total_mod = 1.51588e-1\n",
    "\n",
    "\n",
    "x = [0, .49, .55, .63] \n",
    "thermal = [th_fuel*n_neutron, th_fuel*n_neutron, th_clad*n_neutron, th_mod*n_neutron]\n",
    "fast = [fast_fuel*n_neutron, fast_fuel*n_neutron, fast_clad*n_neutron, fast_mod*n_neutron]\n",
    "total = [total_fuel*n_neutron, total_fuel*n_neutron, total_clad*n_neutron, total_mod*n_neutron]\n",
    "\n",
    "#plt.yrange(270, )\n",
    "fig = plt.figure()\n",
    "ax1 = fig.add_subplot(1,1,1)\n",
    "ax2 = ax1.twinx()\n",
    "plt.title('Average Total Flux in Fuel, Cladding and Water', fontsize=12)\n",
    "\n",
    "ax1.set_xlabel('Radius in geometry [cm]',fontsize=10)\n",
    "ax2.set_ylabel('Flux n/cm^3  THERMAL (Red Line)',fontsize=10)\n",
    "ax1.set_ylabel('Flux n/cm^3 FAST AND TOTAL',fontsize=10)\n",
    "\n",
    "th_plt = ax2.step(x, thermal, label='Thermal Flux', color='r')\n",
    "fst_plot = ax1.step(x, fast, label='Fast Flux', color='g')\n",
    "total_plot = ax1.step(x, total, label='Total Average Flux', color='b')\n",
    "\n",
    "lines = fst_plot+total_plot+th_plt\n",
    "labels = [l.get_label() for l in lines]\n",
    "legend = ax1.legend(lines, labels, loc='center left', fontsize=10)\n",
    "\n",
    "#plt.savefig('q5_c_flux.jpg')\n",
    "plt.show()"
   ]
  },
  {
   "cell_type": "code",
   "execution_count": null,
   "metadata": {
    "collapsed": true
   },
   "outputs": [],
   "source": []
  }
 ],
 "metadata": {
  "kernelspec": {
   "display_name": "Python 3",
   "language": "python",
   "name": "python3"
  },
  "language_info": {
   "codemirror_mode": {
    "name": "ipython",
    "version": 3
   },
   "file_extension": ".py",
   "mimetype": "text/x-python",
   "name": "python",
   "nbconvert_exporter": "python",
   "pygments_lexer": "ipython3",
   "version": "3.6.3"
  }
 },
 "nbformat": 4,
 "nbformat_minor": 2
}
