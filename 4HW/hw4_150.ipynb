{
 "cells": [
  {
   "cell_type": "code",
   "execution_count": 3,
   "metadata": {},
   "outputs": [
    {
     "data": {
      "text/plain": [
       "3.1e-27"
      ]
     },
     "execution_count": 3,
     "metadata": {},
     "output_type": "execute_result"
    }
   ],
   "source": [
    "σcarbon = .0031e-24\n",
    "σwater = .5896e-24\n",
    "σheavy = .0013e-24\n",
    "\n",
    "σ_f = 582.6e-24\n",
    "σ_cap_235 = 98.8e-24\n",
    "\n",
    "ρcarbon = 1\n",
    "ρwater =1\n",
    "ρheavy =1 \n",
    "\n",
    "\n",
    "mods = [[σcarbon],[σwater], [σheavy]]\n",
    "\n",
    "mods[0][0]\n",
    "\n",
    "k =1 \n",
    "v = 2.6\n",
    "for cross in mods:\n",
    "    "
   ]
  },
  {
   "cell_type": "code",
   "execution_count": null,
   "metadata": {
    "collapsed": true
   },
   "outputs": [],
   "source": []
  }
 ],
 "metadata": {
  "kernelspec": {
   "display_name": "Python 3",
   "language": "python",
   "name": "python3"
  },
  "language_info": {
   "codemirror_mode": {
    "name": "ipython",
    "version": 3
   },
   "file_extension": ".py",
   "mimetype": "text/x-python",
   "name": "python",
   "nbconvert_exporter": "python",
   "pygments_lexer": "ipython3",
   "version": "3.6.3"
  }
 },
 "nbformat": 4,
 "nbformat_minor": 2
}
