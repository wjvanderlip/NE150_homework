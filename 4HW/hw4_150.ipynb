{
 "cells": [
  {
   "cell_type": "code",
   "execution_count": 5,
   "metadata": {},
   "outputs": [
    {
     "name": "stdout",
     "output_type": "stream",
     "text": [
      "229847.2480755939\n",
      "1208.4912975480684\n",
      "548097.28387257\n"
     ]
    }
   ],
   "source": [
    "σcarbon = .0031e-24\n",
    "σwater = .5896e-24\n",
    "σheavy = .0013e-24\n",
    "\n",
    "σ_f = 582.6e-24\n",
    "σ_cap_235 = 98.8e-24\n",
    "\n",
    "ρcarbon = 1\n",
    "ρwater =1\n",
    "ρheavy =1 \n",
    "\n",
    "\n",
    "mods = [[σcarbon],[σwater], [σheavy]]\n",
    "\n",
    "mods[0][0]\n",
    "\n",
    "k =1 \n",
    "v = 2.6\n",
    "for cross in mods:\n",
    "    #print(cross[0])\n",
    "    R = v*(σ_f/(σ_f+σ_cap_235))*(σ_f/cross[0])-σ_f/cross[0]\n",
    "    print(R)\n",
    "    "
   ]
  },
  {
   "cell_type": "markdown",
   "metadata": {
    "collapsed": true
   },
   "source": [
    "## Plotting for Question 5"
   ]
  },
  {
   "cell_type": "code",
   "execution_count": 6,
   "metadata": {
    "collapsed": true
   },
   "outputs": [],
   "source": [
    "import matplotlib.pyplot as plt\n",
    "import numpy as np"
   ]
  },
  {
   "cell_type": "code",
   "execution_count": 14,
   "metadata": {},
   "outputs": [
    {
     "data": {
      "image/png": "[encoded data removed]",
      "text/plain": [
       "<matplotlib.figure.Figure at 0x7f3cc34edc18>"
      ]
     },
     "metadata": {},
     "output_type": "display_data"
    }
   ],
   "source": [
    "y_fuel = 2.89529e+2\n",
    "y_cladding = 1.21894E+01\n",
    "y_water = 7.84142E+01\n",
    "\n",
    "x = [0, .49, .55, .63] \n",
    "y = [y_fuel, y_fuel, y_cladding, y_water]\n",
    "\n",
    "#plt.yrange(270, )\n",
    "plt.title('Average Total Flux in Fuel, Cladding and Water', fontsize=12)\n",
    "plt.xlabel('Radius in geometry [cm]',fontsize=10)\n",
    "plt.ylabel('Flux n/cm^3',fontsize=10)\n",
    "plt.step(x, y)\n",
    "#plt.savefig('q5_c_flux.jpg')\n",
    "plt.show()"
   ]
  },
  {
   "cell_type": "code",
   "execution_count": null,
   "metadata": {
    "collapsed": true
   },
   "outputs": [],
   "source": []
  }
 ],
 "metadata": {
  "kernelspec": {
   "display_name": "Python 3",
   "language": "python",
   "name": "python3"
  },
  "language_info": {
   "codemirror_mode": {
    "name": "ipython",
    "version": 3
   },
   "file_extension": ".py",
   "mimetype": "text/x-python",
   "name": "python",
   "nbconvert_exporter": "python",
   "pygments_lexer": "ipython3",
   "version": "3.6.3"
  }
 },
 "nbformat": 4,
 "nbformat_minor": 2
}
